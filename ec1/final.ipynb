{
 "cells": [
  {
   "cell_type": "code",
   "execution_count": 2,
   "metadata": {},
   "outputs": [],
   "source": [
    "import random \n",
    "import time\n",
    "import numpy as np\n",
    "import pandas as pd\n"
   ]
  },
  {
   "cell_type": "code",
   "execution_count": 3,
   "metadata": {},
   "outputs": [],
   "source": [
    "c_merge = 0\n",
    "def MergeSort(arr):\n",
    "    global c_merge\n",
    "    if len(arr) > 1:\n",
    "        mid = len(arr) // 2\n",
    "        L = arr[:mid]\n",
    "        R = arr[mid:]\n",
    "        MergeSort(L)\n",
    "        MergeSort(R)\n",
    "        i=j=k=0\n",
    "        while i<len(L) and j<len(R):\n",
    "            if L[i] <= R[j]:\n",
    "                arr[k] = L[i]\n",
    "                i += 1\n",
    "            else:\n",
    "                arr[k] = R[j]\n",
    "                j += 1\n",
    "            k += 1\n",
    "            c_merge += 1\n",
    "        while i < len(L):\n",
    "            arr[k] = L[i]\n",
    "            i += 1\n",
    "            k += 1\n",
    "\n",
    "        while j < len(R):\n",
    "            arr[k] = R[j]\n",
    "            j += 1\n",
    "            k += 1"
   ]
  },
  {
   "cell_type": "code",
   "execution_count": 4,
   "metadata": {},
   "outputs": [],
   "source": [
    "counter = 0\n",
    "def Hybridsort(arr,S):\n",
    "    global counter\n",
    "    if(len(arr) <= S):\n",
    "        for i in range(0, len(arr)):\n",
    "            for j in range(i, 0, -1):\n",
    "                counter += 1\n",
    "                if arr[j] < arr[j-1]:\n",
    "                    temp = arr[j]\n",
    "                    arr[j] = arr[j-1]\n",
    "                    arr[j-1] = temp\n",
    "                else:\n",
    "                    break\n",
    "    else:\n",
    "        if len(arr) > 1:\n",
    "            mid = len(arr) // 2\n",
    "            L = arr[:mid]\n",
    "            R = arr[mid:]\n",
    "            Hybridsort(L,S)\n",
    "            Hybridsort(R,S)\n",
    "            i=j=k=0\n",
    "            while i<len(L) and j<len(R):\n",
    "                if L[i] <= R[j]:\n",
    "                    arr[k] = L[i]\n",
    "                    i += 1\n",
    "                else:\n",
    "                    arr[k] = R[j]\n",
    "                    j += 1\n",
    "                k += 1\n",
    "                counter += 1\n",
    "\n",
    "            while i < len(L):\n",
    "                arr[k] = L[i]\n",
    "                i += 1\n",
    "                k += 1\n",
    "\n",
    "            while j < len(R):\n",
    "                arr[k] = R[j]\n",
    "                j += 1\n",
    "                k += 1 "
   ]
  },
  {
   "cell_type": "code",
   "execution_count": 13,
   "metadata": {},
   "outputs": [],
   "source": [
    "Mainlist = []\n",
    "for x in range(10):\n",
    "    randomlist = random.sample(range(1, 10000001), x * 1000000)\n",
    "    Mainlist.append(randomlist)\n",
    "\n",
    "Mainlist = Mainlist[1:]\n",
    "with open('Data.txt', 'w') as f:\n",
    "    f.write(str(Mainlist))"
   ]
  },
  {
   "cell_type": "code",
   "execution_count": 15,
   "metadata": {},
   "outputs": [
    {
     "name": "stderr",
     "output_type": "stream",
     "text": [
      "C:\\Users\\Anh Ngoc\\AppData\\Local\\Temp\\ipykernel_1708\\3082910600.py:22: FutureWarning: The frame.append method is deprecated and will be removed from pandas in a future version. Use pandas.concat instead.\n",
      "  dfS = dfS.append({'Size N' :int(len(x)), 'Key Comparison Hybrid' : int(counter), 'Key Comparison Merge' : int(c_merge), 'Key Comparison Difference' : counter/c_merge, 'Time Difference' : time_taken_merge - time_taken_hybrid}, ignore_index = True)\n",
      "C:\\Users\\Anh Ngoc\\AppData\\Local\\Temp\\ipykernel_1708\\3082910600.py:22: FutureWarning: The frame.append method is deprecated and will be removed from pandas in a future version. Use pandas.concat instead.\n",
      "  dfS = dfS.append({'Size N' :int(len(x)), 'Key Comparison Hybrid' : int(counter), 'Key Comparison Merge' : int(c_merge), 'Key Comparison Difference' : counter/c_merge, 'Time Difference' : time_taken_merge - time_taken_hybrid}, ignore_index = True)\n",
      "C:\\Users\\Anh Ngoc\\AppData\\Local\\Temp\\ipykernel_1708\\3082910600.py:22: FutureWarning: The frame.append method is deprecated and will be removed from pandas in a future version. Use pandas.concat instead.\n",
      "  dfS = dfS.append({'Size N' :int(len(x)), 'Key Comparison Hybrid' : int(counter), 'Key Comparison Merge' : int(c_merge), 'Key Comparison Difference' : counter/c_merge, 'Time Difference' : time_taken_merge - time_taken_hybrid}, ignore_index = True)\n",
      "C:\\Users\\Anh Ngoc\\AppData\\Local\\Temp\\ipykernel_1708\\3082910600.py:22: FutureWarning: The frame.append method is deprecated and will be removed from pandas in a future version. Use pandas.concat instead.\n",
      "  dfS = dfS.append({'Size N' :int(len(x)), 'Key Comparison Hybrid' : int(counter), 'Key Comparison Merge' : int(c_merge), 'Key Comparison Difference' : counter/c_merge, 'Time Difference' : time_taken_merge - time_taken_hybrid}, ignore_index = True)\n",
      "C:\\Users\\Anh Ngoc\\AppData\\Local\\Temp\\ipykernel_1708\\3082910600.py:22: FutureWarning: The frame.append method is deprecated and will be removed from pandas in a future version. Use pandas.concat instead.\n",
      "  dfS = dfS.append({'Size N' :int(len(x)), 'Key Comparison Hybrid' : int(counter), 'Key Comparison Merge' : int(c_merge), 'Key Comparison Difference' : counter/c_merge, 'Time Difference' : time_taken_merge - time_taken_hybrid}, ignore_index = True)\n",
      "C:\\Users\\Anh Ngoc\\AppData\\Local\\Temp\\ipykernel_1708\\3082910600.py:22: FutureWarning: The frame.append method is deprecated and will be removed from pandas in a future version. Use pandas.concat instead.\n",
      "  dfS = dfS.append({'Size N' :int(len(x)), 'Key Comparison Hybrid' : int(counter), 'Key Comparison Merge' : int(c_merge), 'Key Comparison Difference' : counter/c_merge, 'Time Difference' : time_taken_merge - time_taken_hybrid}, ignore_index = True)\n",
      "C:\\Users\\Anh Ngoc\\AppData\\Local\\Temp\\ipykernel_1708\\3082910600.py:22: FutureWarning: The frame.append method is deprecated and will be removed from pandas in a future version. Use pandas.concat instead.\n",
      "  dfS = dfS.append({'Size N' :int(len(x)), 'Key Comparison Hybrid' : int(counter), 'Key Comparison Merge' : int(c_merge), 'Key Comparison Difference' : counter/c_merge, 'Time Difference' : time_taken_merge - time_taken_hybrid}, ignore_index = True)\n",
      "C:\\Users\\Anh Ngoc\\AppData\\Local\\Temp\\ipykernel_1708\\3082910600.py:22: FutureWarning: The frame.append method is deprecated and will be removed from pandas in a future version. Use pandas.concat instead.\n",
      "  dfS = dfS.append({'Size N' :int(len(x)), 'Key Comparison Hybrid' : int(counter), 'Key Comparison Merge' : int(c_merge), 'Key Comparison Difference' : counter/c_merge, 'Time Difference' : time_taken_merge - time_taken_hybrid}, ignore_index = True)\n"
     ]
    },
    {
     "name": "stdout",
     "output_type": "stream",
     "text": [
      "      Size N Key Comparison Hybrid Key Comparison Merge  \\\n",
      "0  1000000.0            18727103.0           18673531.0   \n",
      "1  2000000.0            39454882.0           39347754.0   \n",
      "2  3000000.0            60820769.0           60820292.0   \n",
      "3  4000000.0            82912211.0           82698093.0   \n",
      "4  5000000.0           105110207.0          105051089.0   \n",
      "5  6000000.0           127643541.0          127643029.0   \n",
      "6  7000000.0           150625943.0          150450656.0   \n",
      "7  8000000.0           173820863.0          173393968.0   \n",
      "8  9000000.0           197015695.0          196644700.0   \n",
      "\n",
      "  Key Comparison Difference Time Difference  \n",
      "0                  1.002869        0.133369  \n",
      "1                  1.002723        0.219681  \n",
      "2                  1.000008        0.066557  \n",
      "3                  1.002589        0.613836  \n",
      "4                  1.000563       -0.278306  \n",
      "5                  1.000004        0.086271  \n",
      "6                  1.001165        0.814665  \n",
      "7                  1.002462       30.482762  \n",
      "8                  1.001887       -4.193858  \n"
     ]
    },
    {
     "name": "stderr",
     "output_type": "stream",
     "text": [
      "C:\\Users\\Anh Ngoc\\AppData\\Local\\Temp\\ipykernel_1708\\3082910600.py:22: FutureWarning: The frame.append method is deprecated and will be removed from pandas in a future version. Use pandas.concat instead.\n",
      "  dfS = dfS.append({'Size N' :int(len(x)), 'Key Comparison Hybrid' : int(counter), 'Key Comparison Merge' : int(c_merge), 'Key Comparison Difference' : counter/c_merge, 'Time Difference' : time_taken_merge - time_taken_hybrid}, ignore_index = True)\n"
     ]
    }
   ],
   "source": [
    "import copy\n",
    "dfS = pd.DataFrame(columns = ['Size N','Key Comparison Hybrid', 'Key Comparison Merge', 'Key Comparison Difference', 'Time Difference'])\n",
    "counter = 0\n",
    "c_merge = 0\n",
    "\n",
    "for x in Mainlist:\n",
    "    time_taken_hybrid = 0\n",
    "    a = copy.deepcopy(x)\n",
    "    b = copy.deepcopy(x)\n",
    "    time_taken_hybrid = 0\n",
    "    start_time_hybrid = time.perf_counter()\n",
    "    Hybridsort(a, 4)\n",
    "    end_time_hybrid = time.perf_counter()\n",
    "    time_taken_merge = 0\n",
    "    start_time_merge = time.perf_counter()\n",
    "    MergeSort(b)\n",
    "    end_time_merge = time.perf_counter()\n",
    "    \n",
    "    time_taken_hybrid = end_time_hybrid - start_time_hybrid\n",
    "    time_taken_merge = end_time_merge - start_time_merge\n",
    "\n",
    "    dfS = dfS.append({'Size N' :int(len(x)), 'Key Comparison Hybrid' : int(counter), 'Key Comparison Merge' : int(c_merge), 'Key Comparison Difference' : counter/c_merge, 'Time Difference' : time_taken_merge - time_taken_hybrid}, ignore_index = True)\n",
    "    counter = 0\n",
    "    c_merge = 0\n",
    "print(dfS)"
   ]
  }
 ],
 "metadata": {
  "kernelspec": {
   "display_name": "Python 3.9.6 64-bit (system)",
   "language": "python",
   "name": "python3"
  },
  "language_info": {
   "codemirror_mode": {
    "name": "ipython",
    "version": 3
   },
   "file_extension": ".py",
   "mimetype": "text/x-python",
   "name": "python",
   "nbconvert_exporter": "python",
   "pygments_lexer": "ipython3",
   "version": "3.9.6"
  },
  "orig_nbformat": 4,
  "vscode": {
   "interpreter": {
    "hash": "46cd39304ae26ba04d233fa80d29072fe28e3455a462f1e1ed7649618f94f9b4"
   }
  }
 },
 "nbformat": 4,
 "nbformat_minor": 2
}
